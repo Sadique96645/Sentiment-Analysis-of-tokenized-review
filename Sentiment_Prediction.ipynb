{
 "cells": [
  {
   "cell_type": "code",
   "execution_count": 1,
   "metadata": {},
   "outputs": [],
   "source": [
    "import pandas as pd\n",
    "import numpy as np\n",
    "import matplotlib.pyplot as plt\n",
    "import seaborn as sns\n",
    "%matplotlib inline"
   ]
  },
  {
   "cell_type": "code",
   "execution_count": 2,
   "metadata": {},
   "outputs": [],
   "source": [
    "df_train = pd.read_csv('TRAIN.csv')\n",
    "df_test = pd.read_csv('TEST.csv')"
   ]
  },
  {
   "cell_type": "code",
   "execution_count": 3,
   "metadata": {},
   "outputs": [
    {
     "data": {
      "text/html": [
       "<div>\n",
       "<style scoped>\n",
       "    .dataframe tbody tr th:only-of-type {\n",
       "        vertical-align: middle;\n",
       "    }\n",
       "\n",
       "    .dataframe tbody tr th {\n",
       "        vertical-align: top;\n",
       "    }\n",
       "\n",
       "    .dataframe thead th {\n",
       "        text-align: right;\n",
       "    }\n",
       "</style>\n",
       "<table border=\"1\" class=\"dataframe\">\n",
       "  <thead>\n",
       "    <tr style=\"text-align: right;\">\n",
       "      <th></th>\n",
       "      <th>text</th>\n",
       "      <th>category</th>\n",
       "    </tr>\n",
       "  </thead>\n",
       "  <tbody>\n",
       "    <tr>\n",
       "      <th>0</th>\n",
       "      <td>1047 6700 4178 2912 183 6700</td>\n",
       "      <td>0</td>\n",
       "    </tr>\n",
       "    <tr>\n",
       "      <th>1</th>\n",
       "      <td>4035 4563 1994 154 5373 4956 6035 4393 4017 40...</td>\n",
       "      <td>1</td>\n",
       "    </tr>\n",
       "    <tr>\n",
       "      <th>2</th>\n",
       "      <td>5035 7685 3139 4407 254 584 6589 8518 3078</td>\n",
       "      <td>0</td>\n",
       "    </tr>\n",
       "    <tr>\n",
       "      <th>3</th>\n",
       "      <td>1047 2540 2578 6700 2242 230 3771 4676 5881 64...</td>\n",
       "      <td>0</td>\n",
       "    </tr>\n",
       "    <tr>\n",
       "      <th>4</th>\n",
       "      <td>7685 5868 237 6794 3078</td>\n",
       "      <td>0</td>\n",
       "    </tr>\n",
       "  </tbody>\n",
       "</table>\n",
       "</div>"
      ],
      "text/plain": [
       "                                                text  category\n",
       "0                       1047 6700 4178 2912 183 6700         0\n",
       "1  4035 4563 1994 154 5373 4956 6035 4393 4017 40...         1\n",
       "2         5035 7685 3139 4407 254 584 6589 8518 3078         0\n",
       "3  1047 2540 2578 6700 2242 230 3771 4676 5881 64...         0\n",
       "4                            7685 5868 237 6794 3078         0"
      ]
     },
     "execution_count": 3,
     "metadata": {},
     "output_type": "execute_result"
    }
   ],
   "source": [
    "df_train_1 = df_train.drop('id',axis=1)\n",
    "df_test_1 = df_test.drop('id',axis=1)\n",
    "df_train_1.head()"
   ]
  },
  {
   "cell_type": "code",
   "execution_count": 5,
   "metadata": {},
   "outputs": [],
   "source": [
    "from sklearn.feature_extraction.text import TfidfVectorizer, CountVectorizer\n",
    "tfidf = TfidfVectorizer()\n",
    "from sklearn.linear_model import LogisticRegression\n",
    "from sklearn.metrics import accuracy_score, f1_score, classification_report\n",
    "from sklearn.model_selection import GridSearchCV\n",
    "from sklearn.model_selection import train_test_split"
   ]
  },
  {
   "cell_type": "code",
   "execution_count": 6,
   "metadata": {},
   "outputs": [],
   "source": [
    "X = df_train_1['text']\n",
    "y = df_train_1['category']"
   ]
  },
  {
   "cell_type": "code",
   "execution_count": 7,
   "metadata": {},
   "outputs": [],
   "source": [
    "vectorizer = CountVectorizer()\n",
    "X_count = vectorizer.fit_transform(X)\n",
    "X_train, X_test, y_train, y_test = train_test_split(X_count, y, test_size=0.25, random_state=1992)"
   ]
  },
  {
   "cell_type": "code",
   "execution_count": 13,
   "metadata": {},
   "outputs": [
    {
     "name": "stdout",
     "output_type": "stream",
     "text": [
      "1.0\n",
      "              precision    recall  f1-score   support\n",
      "\n",
      "           0       1.00      1.00      1.00       626\n",
      "           1       1.00      1.00      1.00        24\n",
      "\n",
      "    accuracy                           1.00       650\n",
      "   macro avg       1.00      1.00      1.00       650\n",
      "weighted avg       1.00      1.00      1.00       650\n",
      "\n"
     ]
    }
   ],
   "source": [
    "from sklearn.metrics import precision_score\n",
    "log_reg = LogisticRegression(class_weight='balanced')\n",
    "log_reg.fit(X_count,y)\n",
    "y_pred = log_reg.predict(X_test)\n",
    "print(precision_score(y_test, y_pred, average='macro'))\n",
    "print(classification_report(y_test, y_pred))"
   ]
  },
  {
   "cell_type": "code",
   "execution_count": 14,
   "metadata": {},
   "outputs": [],
   "source": [
    "test_count = vectorizer.transform(df_test_1['text'])\n",
    "y_pred_final = log_reg.predict(test_count)\n",
    "submission = pd.DataFrame({\"category\": y_pred_final})\n",
    "submission.to_csv(('final2_submission.csv'),index=False)"
   ]
  },
  {
   "cell_type": "code",
   "execution_count": 18,
   "metadata": {},
   "outputs": [],
   "source": [
    "tv = TfidfVectorizer(min_df=0.0, max_df=1.0, ngram_range=(1,2),sublinear_tf=True)\n",
    "X_tfidf = tv.fit_transform(X)\n",
    "X_train_tfidf, X_test_tfidf, y_train, y_test = train_test_split(X_tfidf, y, test_size=0.25, random_state=1992)"
   ]
  },
  {
   "cell_type": "code",
   "execution_count": 19,
   "metadata": {},
   "outputs": [
    {
     "name": "stdout",
     "output_type": "stream",
     "text": [
      "1.0\n",
      "              precision    recall  f1-score   support\n",
      "\n",
      "           0       1.00      1.00      1.00       626\n",
      "           1       1.00      1.00      1.00        24\n",
      "\n",
      "    accuracy                           1.00       650\n",
      "   macro avg       1.00      1.00      1.00       650\n",
      "weighted avg       1.00      1.00      1.00       650\n",
      "\n"
     ]
    }
   ],
   "source": [
    "log_reg.fit(X_tfidf,y)\n",
    "y_pred = log_reg.predict(X_test_tfidf)\n",
    "print(precision_score(y_test, y_pred, average='macro'))\n",
    "print(classification_report(y_test, y_pred))"
   ]
  },
  {
   "cell_type": "code",
   "execution_count": 20,
   "metadata": {},
   "outputs": [],
   "source": [
    "test_tfidf = tv.transform(df_test_1['text'])\n",
    "y_pred_final = log_reg.predict(test_tfidf)\n",
    "submission = pd.DataFrame({\"category\": y_pred_final})\n",
    "submission.to_csv(('final2_tfidf_submission.csv'),index=False)"
   ]
  },
  {
   "cell_type": "code",
   "execution_count": 21,
   "metadata": {},
   "outputs": [
    {
     "name": "stdout",
     "output_type": "stream",
     "text": [
      "1.0\n",
      "              precision    recall  f1-score   support\n",
      "\n",
      "           0       1.00      1.00      1.00       626\n",
      "           1       1.00      1.00      1.00        24\n",
      "\n",
      "    accuracy                           1.00       650\n",
      "   macro avg       1.00      1.00      1.00       650\n",
      "weighted avg       1.00      1.00      1.00       650\n",
      "\n"
     ]
    }
   ],
   "source": [
    "tv1 = TfidfVectorizer(min_df=0.0, max_df=1.0, ngram_range=(1,1),sublinear_tf=True)\n",
    "X_tfidf = tv1.fit_transform(X)\n",
    "X_train_tfidf, X_test_tfidf, y_train, y_test = train_test_split(X_tfidf, y, test_size=0.25, random_state=1992)\n",
    "log_reg.fit(X_tfidf,y)\n",
    "y_pred = log_reg.predict(X_test_tfidf)\n",
    "print(precision_score(y_test, y_pred, average='macro'))\n",
    "print(classification_report(y_test, y_pred))"
   ]
  },
  {
   "cell_type": "code",
   "execution_count": 22,
   "metadata": {},
   "outputs": [],
   "source": [
    "test_tfidf = tv1.transform(df_test_1['text'])\n",
    "y_pred_final = log_reg.predict(test_tfidf)\n",
    "submission = pd.DataFrame({\"category\": y_pred_final})\n",
    "submission.to_csv(('1_2_tfidf_submission.csv'),index=False)"
   ]
  },
  {
   "cell_type": "code",
   "execution_count": 25,
   "metadata": {},
   "outputs": [
    {
     "name": "stdout",
     "output_type": "stream",
     "text": [
      "0.976665973233479\n",
      "              precision    recall  f1-score   support\n",
      "\n",
      "           0       1.00      1.00      1.00       626\n",
      "           1       0.96      0.92      0.94        24\n",
      "\n",
      "    accuracy                           1.00       650\n",
      "   macro avg       0.98      0.96      0.97       650\n",
      "weighted avg       1.00      1.00      1.00       650\n",
      "\n"
     ]
    }
   ],
   "source": [
    "from sklearn.model_selection import RepeatedStratifiedKFold\n",
    "# define dataset\n",
    "# define models and parameters\n",
    "model = LogisticRegression()\n",
    "solvers = ['newton-cg', 'lbfgs', 'liblinear']\n",
    "penalty = ['l2']\n",
    "c_values = [100, 10, 1.0, 0.1, 0.01]\n",
    "# define grid search\n",
    "grid = dict(solver=solvers,penalty=penalty,C=c_values)\n",
    "cv = RepeatedStratifiedKFold(n_splits=10, n_repeats=3, random_state=1)\n",
    "grid_search = GridSearchCV(estimator=log_reg, param_grid=grid, n_jobs=-1, cv=cv, scoring='accuracy',error_score=0)\n",
    "grid_search.fit(X_tfidf, y)\n",
    "y_pred = grid_search.predict(X_test_tfidf)\n",
    "print(precision_score(y_test, y_pred, average='macro'))\n",
    "print(classification_report(y_test, y_pred))"
   ]
  },
  {
   "cell_type": "code",
   "execution_count": 26,
   "metadata": {},
   "outputs": [],
   "source": [
    "#test_tfidf = tv1.transform(df_test_1['text'])\n",
    "y_pred_final = grid_search.predict(test_tfidf)\n",
    "submission = pd.DataFrame({\"category\": y_pred_final})\n",
    "submission.to_csv(('Grid_1_2_tfidf_submission.csv'),index=False)"
   ]
  },
  {
   "cell_type": "code",
   "execution_count": null,
   "metadata": {},
   "outputs": [],
   "source": []
  }
 ],
 "metadata": {
  "kernelspec": {
   "display_name": "Python 3",
   "language": "python",
   "name": "python3"
  },
  "language_info": {
   "codemirror_mode": {
    "name": "ipython",
    "version": 3
   },
   "file_extension": ".py",
   "mimetype": "text/x-python",
   "name": "python",
   "nbconvert_exporter": "python",
   "pygments_lexer": "ipython3",
   "version": "3.7.3"
  }
 },
 "nbformat": 4,
 "nbformat_minor": 2
}
